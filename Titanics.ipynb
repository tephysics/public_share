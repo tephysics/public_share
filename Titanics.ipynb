{
 "cells": [
  {
   "cell_type": "code",
   "execution_count": 1,
   "id": "5c20a139",
   "metadata": {},
   "outputs": [],
   "source": [
    "import pandas as pd\n",
    "import numpy as np\n",
    "import matplotlib.pyplot as plt\n",
    "import seaborn as sns\n",
    "from matplotlib.font_manager import FontProperties\n",
    "from datetime import datetime\n",
    "\n",
    "\n",
    "from IPython.core.interactiveshell import InteractiveShell\n",
    "InteractiveShell.ast_node_interactivity = \"all\"\n",
    "pd.options.display.max_columns = 999"
   ]
  },
  {
   "cell_type": "code",
   "execution_count": 2,
   "id": "d5107b19",
   "metadata": {},
   "outputs": [],
   "source": [
    "from itertools import combinations\n",
    "from scipy.stats import chi2_contingency, f_oneway\n",
    "from lightgbm import LGBMClassifier\n",
    "from sklearn import metrics\n",
    "from sklearn.metrics import classification_report, confusion_matrix, accuracy_score\n",
    "from sklearn.metrics import recall_score, precision_score, f1_score, roc_auc_score, roc_curve\n",
    "from sklearn.model_selection import GridSearchCV, train_test_split, PredefinedSplit\n",
    "from sklearn.feature_selection import SelectFromModel\n",
    "from sklearn.metrics import plot_confusion_matrix"
   ]
  },
  {
   "cell_type": "code",
   "execution_count": 3,
   "id": "98c72ab3",
   "metadata": {},
   "outputs": [],
   "source": [
    "def plot_respond_by_category(df_feature, key_columns, columns_group, columns_target, order,\n",
    "               x_label, chart_name, rot = 0, figwidth = 15, figheigh = 5):\n",
    "    \n",
    "    from matplotlib.font_manager import FontProperties\n",
    "        \n",
    "    df = df_feature[df_feature[columns_group].notnull() & df_feature[columns_group].isin(order)]\n",
    "    \n",
    "    population = df[columns_group].value_counts(normalize = True).reindex(index = order) * 100\n",
    "    \n",
    "    response = df.groupby(columns_group)[columns_target].mean().reindex(index = order) * 100\n",
    "    \n",
    "    benchmark = round((df[columns_target].sum() / df.shape[0]) * 100, 3)\n",
    "    \n",
    "    table = df.groupby(columns_group).agg({key_columns:'count', columns_target:'sum'}).reindex(index = order).reset_index()\n",
    "    table['% target'] = round(table[columns_target] * 100 / table[key_columns], 3)\n",
    "    \n",
    "    sum_population = pd.DataFrame({columns_group:['sum'], key_columns:[table[key_columns].sum()], columns_target:[table[columns_target].sum()], '% target':['-']})\n",
    "    table = pd.concat([table, sum_population])\n",
    "    \n",
    "    table[key_columns] = table[key_columns].apply(lambda x: '{:,}'.format(x))\n",
    "    table[columns_target] = table[columns_target].apply(lambda x: '{:,}'.format(x))\n",
    "    table.rename(columns={columns_group:'x-axis'}, inplace = True)\n",
    "    table_cols = table.columns\n",
    "    table.rename(columns = {key_columns:'Population', '% target':f'% {columns_target}'}, inplace = True)\n",
    "    \n",
    "    fig, ax = plt.subplots(1,2)\n",
    "    _ = population.plot(kind='bar', use_index=True, rot = rot, color = 'skyblue', ax = ax[0])\n",
    "    ax_02 = ax[0].twinx()\n",
    "    _ = ax_02.plot(response.values, linestyle='-', marker='o', linewidth=2.0, color = 'red')\n",
    "    _ = ax[0].set_ylabel('% Population', color = 'skyblue', fontsize=15)\n",
    "    _ = ax_02.set_ylabel(f'% {columns_target}', color = 'red', fontsize=15)\n",
    "    _ = ax[0].set_xlabel('{} \\n\\n baseline: {}%'.format(x_label, benchmark), fontsize=10)\n",
    "    _ = ax_02.axhline(y=benchmark, color='red', linestyle='--', lw=2)\n",
    "    _ = ax[0].title.set_text(chart_name)\n",
    "    \n",
    "    #plot table\n",
    "    t = ax[1].table(cellText=table.values,colLabels=table.columns,loc='center', cellLoc = 'center')\n",
    "    t.auto_set_font_size(False)\n",
    "    t.set_fontsize(10)\n",
    "    t.scale(1, 3)\n",
    "    _ = ax[1].axis('tight')\n",
    "    _ = ax[1].axis('off')\n",
    "    \n",
    "    for (row, col), cell in t.get_celld().items():\n",
    "        if (row == 0):\n",
    "            cell.set_text_props(fontproperties=FontProperties(weight='bold'))\n",
    "        elif (row == table.shape[0]):\n",
    "            cell.set_text_props(fontproperties=FontProperties(weight='bold'))\n",
    "    \n",
    "    _ = fig.set_figwidth(figwidth)\n",
    "    _ = fig.set_figheight(figheigh)\n",
    "    _ = fig.tight_layout(pad=5.0)\n",
    "    _ = plt.show()"
   ]
  },
  {
   "cell_type": "markdown",
   "id": "8830af43",
   "metadata": {},
   "source": [
    "---"
   ]
  },
  {
   "cell_type": "markdown",
   "id": "56b50fcd",
   "metadata": {},
   "source": [
    "# EDA"
   ]
  },
  {
   "cell_type": "code",
   "execution_count": 4,
   "id": "fde37bf4",
   "metadata": {},
   "outputs": [],
   "source": [
    "df = pd.read_csv('./train.csv')"
   ]
  },
  {
   "cell_type": "code",
   "execution_count": 5,
   "id": "6c983c3b",
   "metadata": {},
   "outputs": [
    {
     "data": {
      "text/html": [
       "<div>\n",
       "<style scoped>\n",
       "    .dataframe tbody tr th:only-of-type {\n",
       "        vertical-align: middle;\n",
       "    }\n",
       "\n",
       "    .dataframe tbody tr th {\n",
       "        vertical-align: top;\n",
       "    }\n",
       "\n",
       "    .dataframe thead th {\n",
       "        text-align: right;\n",
       "    }\n",
       "</style>\n",
       "<table border=\"1\" class=\"dataframe\">\n",
       "  <thead>\n",
       "    <tr style=\"text-align: right;\">\n",
       "      <th></th>\n",
       "      <th>PassengerId</th>\n",
       "      <th>Survived</th>\n",
       "      <th>Pclass</th>\n",
       "      <th>Name</th>\n",
       "      <th>Sex</th>\n",
       "      <th>Age</th>\n",
       "      <th>SibSp</th>\n",
       "      <th>Parch</th>\n",
       "      <th>Ticket</th>\n",
       "      <th>Fare</th>\n",
       "      <th>Cabin</th>\n",
       "      <th>Embarked</th>\n",
       "    </tr>\n",
       "  </thead>\n",
       "  <tbody>\n",
       "    <tr>\n",
       "      <th>0</th>\n",
       "      <td>1</td>\n",
       "      <td>0</td>\n",
       "      <td>3</td>\n",
       "      <td>Braund, Mr. Owen Harris</td>\n",
       "      <td>male</td>\n",
       "      <td>22.0</td>\n",
       "      <td>1</td>\n",
       "      <td>0</td>\n",
       "      <td>A/5 21171</td>\n",
       "      <td>7.2500</td>\n",
       "      <td>NaN</td>\n",
       "      <td>S</td>\n",
       "    </tr>\n",
       "    <tr>\n",
       "      <th>1</th>\n",
       "      <td>2</td>\n",
       "      <td>1</td>\n",
       "      <td>1</td>\n",
       "      <td>Cumings, Mrs. John Bradley (Florence Briggs Th...</td>\n",
       "      <td>female</td>\n",
       "      <td>38.0</td>\n",
       "      <td>1</td>\n",
       "      <td>0</td>\n",
       "      <td>PC 17599</td>\n",
       "      <td>71.2833</td>\n",
       "      <td>C85</td>\n",
       "      <td>C</td>\n",
       "    </tr>\n",
       "    <tr>\n",
       "      <th>2</th>\n",
       "      <td>3</td>\n",
       "      <td>1</td>\n",
       "      <td>3</td>\n",
       "      <td>Heikkinen, Miss. Laina</td>\n",
       "      <td>female</td>\n",
       "      <td>26.0</td>\n",
       "      <td>0</td>\n",
       "      <td>0</td>\n",
       "      <td>STON/O2. 3101282</td>\n",
       "      <td>7.9250</td>\n",
       "      <td>NaN</td>\n",
       "      <td>S</td>\n",
       "    </tr>\n",
       "    <tr>\n",
       "      <th>3</th>\n",
       "      <td>4</td>\n",
       "      <td>1</td>\n",
       "      <td>1</td>\n",
       "      <td>Futrelle, Mrs. Jacques Heath (Lily May Peel)</td>\n",
       "      <td>female</td>\n",
       "      <td>35.0</td>\n",
       "      <td>1</td>\n",
       "      <td>0</td>\n",
       "      <td>113803</td>\n",
       "      <td>53.1000</td>\n",
       "      <td>C123</td>\n",
       "      <td>S</td>\n",
       "    </tr>\n",
       "    <tr>\n",
       "      <th>4</th>\n",
       "      <td>5</td>\n",
       "      <td>0</td>\n",
       "      <td>3</td>\n",
       "      <td>Allen, Mr. William Henry</td>\n",
       "      <td>male</td>\n",
       "      <td>35.0</td>\n",
       "      <td>0</td>\n",
       "      <td>0</td>\n",
       "      <td>373450</td>\n",
       "      <td>8.0500</td>\n",
       "      <td>NaN</td>\n",
       "      <td>S</td>\n",
       "    </tr>\n",
       "  </tbody>\n",
       "</table>\n",
       "</div>"
      ],
      "text/plain": [
       "   PassengerId  Survived  Pclass  \\\n",
       "0            1         0       3   \n",
       "1            2         1       1   \n",
       "2            3         1       3   \n",
       "3            4         1       1   \n",
       "4            5         0       3   \n",
       "\n",
       "                                                Name     Sex   Age  SibSp  \\\n",
       "0                            Braund, Mr. Owen Harris    male  22.0      1   \n",
       "1  Cumings, Mrs. John Bradley (Florence Briggs Th...  female  38.0      1   \n",
       "2                             Heikkinen, Miss. Laina  female  26.0      0   \n",
       "3       Futrelle, Mrs. Jacques Heath (Lily May Peel)  female  35.0      1   \n",
       "4                           Allen, Mr. William Henry    male  35.0      0   \n",
       "\n",
       "   Parch            Ticket     Fare Cabin Embarked  \n",
       "0      0         A/5 21171   7.2500   NaN        S  \n",
       "1      0          PC 17599  71.2833   C85        C  \n",
       "2      0  STON/O2. 3101282   7.9250   NaN        S  \n",
       "3      0            113803  53.1000  C123        S  \n",
       "4      0            373450   8.0500   NaN        S  "
      ]
     },
     "execution_count": 5,
     "metadata": {},
     "output_type": "execute_result"
    },
    {
     "data": {
      "text/plain": [
       "(891, 12)"
      ]
     },
     "execution_count": 5,
     "metadata": {},
     "output_type": "execute_result"
    }
   ],
   "source": [
    "df.head()\n",
    "df.shape"
   ]
  },
  {
   "cell_type": "code",
   "execution_count": 6,
   "id": "ee7597e1",
   "metadata": {},
   "outputs": [
    {
     "name": "stdout",
     "output_type": "stream",
     "text": [
      "<class 'pandas.core.frame.DataFrame'>\n",
      "RangeIndex: 891 entries, 0 to 890\n",
      "Data columns (total 12 columns):\n",
      " #   Column       Non-Null Count  Dtype  \n",
      "---  ------       --------------  -----  \n",
      " 0   PassengerId  891 non-null    int64  \n",
      " 1   Survived     891 non-null    int64  \n",
      " 2   Pclass       891 non-null    int64  \n",
      " 3   Name         891 non-null    object \n",
      " 4   Sex          891 non-null    object \n",
      " 5   Age          714 non-null    float64\n",
      " 6   SibSp        891 non-null    int64  \n",
      " 7   Parch        891 non-null    int64  \n",
      " 8   Ticket       891 non-null    object \n",
      " 9   Fare         891 non-null    float64\n",
      " 10  Cabin        204 non-null    object \n",
      " 11  Embarked     889 non-null    object \n",
      "dtypes: float64(2), int64(5), object(5)\n",
      "memory usage: 83.7+ KB\n"
     ]
    }
   ],
   "source": [
    "df.info()"
   ]
  },
  {
   "cell_type": "markdown",
   "id": "5e4846eb",
   "metadata": {},
   "source": [
    "Note: Three feature have missing values, namely, Age, Cabin, Embarked"
   ]
  },
  {
   "cell_type": "markdown",
   "id": "4ec101e8",
   "metadata": {},
   "source": [
    "### Survived (Target)"
   ]
  },
  {
   "cell_type": "code",
   "execution_count": 7,
   "id": "2a90bff4",
   "metadata": {
    "scrolled": false
   },
   "outputs": [
    {
     "data": {
      "image/png": "[encoded data removed]",
      "text/plain": [
       "<Figure size 360x360 with 1 Axes>"
      ]
     },
     "metadata": {
      "needs_background": "light"
     },
     "output_type": "display_data"
    }
   ],
   "source": [
    "_ = sns.catplot(data = df, x = 'Survived', kind = 'count')"
   ]
  },
  {
   "cell_type": "code",
   "execution_count": 8,
   "id": "08656b98",
   "metadata": {
    "scrolled": true
   },
   "outputs": [
    {
     "data": {
      "text/plain": [
       "0    0.616162\n",
       "1    0.383838\n",
       "Name: Survived, dtype: float64"
      ]
     },
     "execution_count": 8,
     "metadata": {},
     "output_type": "execute_result"
    }
   ],
   "source": [
    "df.Survived.value_counts(normalize = True)"
   ]
  },
  {
   "cell_type": "markdown",
   "id": "eaf7b086",
   "metadata": {},
   "source": [
    "Note: The dataset is a bit imbalance but aceptable. No need to undersampling or oversampling for now."
   ]
  },
  {
   "cell_type": "markdown",
   "id": "28efca5a",
   "metadata": {},
   "source": [
    "### Pclass"
   ]
  },
  {
   "cell_type": "code",
   "execution_count": 9,
   "id": "46af2b3f",
   "metadata": {},
   "outputs": [
    {
     "data": {
      "image/png": "[encoded data removed]",
      "text/plain": [
       "<Figure size 360x360 with 1 Axes>"
      ]
     },
     "metadata": {
      "needs_background": "light"
     },
     "output_type": "display_data"
    }
   ],
   "source": [
    "_ = sns.catplot(data = df, x = 'Pclass', kind = 'count')"
   ]
  },
  {
   "cell_type": "markdown",
   "id": "36bf23a4",
   "metadata": {},
   "source": [
    "There are 3 classes, namely, 1, 2 ,3."
   ]
  },
  {
   "cell_type": "markdown",
   "id": "77bf7c0b",
   "metadata": {},
   "source": [
    "### Name"
   ]
  },
  {
   "cell_type": "code",
   "execution_count": 10,
   "id": "1d9a26e9",
   "metadata": {},
   "outputs": [
    {
     "data": {
      "text/plain": [
       "0                              Braund, Mr. Owen Harris\n",
       "1    Cumings, Mrs. John Bradley (Florence Briggs Th...\n",
       "2                               Heikkinen, Miss. Laina\n",
       "3         Futrelle, Mrs. Jacques Heath (Lily May Peel)\n",
       "4                             Allen, Mr. William Henry\n",
       "Name: Name, dtype: object"
      ]
     },
     "execution_count": 10,
     "metadata": {},
     "output_type": "execute_result"
    }
   ],
   "source": [
    "df.Name.head()"
   ]
  },
  {
   "cell_type": "code",
   "execution_count": 11,
   "id": "b358e557",
   "metadata": {},
   "outputs": [],
   "source": [
    "def extract_title(Name):\n",
    "    \n",
    "    title = Name.split(',')[1].split('.')[0].strip()\n",
    "    \n",
    "    return title"
   ]
  },
  {
   "cell_type": "code",
   "execution_count": 12,
   "id": "d0b3e723",
   "metadata": {},
   "outputs": [],
   "source": [
    "df['Title'] = df.Name.apply(extract_title)"
   ]
  },
  {
   "cell_type": "code",
   "execution_count": 13,
   "id": "472c7f45",
   "metadata": {},
   "outputs": [
    {
     "data": {
      "image/png": "[encoded data removed]",
      "text/plain": [
       "<Figure size 360x360 with 1 Axes>"
      ]
     },
     "metadata": {
      "needs_background": "light"
     },
     "output_type": "display_data"
    }
   ],
   "source": [
    "_ = sns.catplot(data = df, x = 'Title', kind = 'count')\n",
    "_ = plt.xticks(rotation = 45)"
   ]
  },
  {
   "cell_type": "markdown",
   "id": "91089260",
   "metadata": {},
   "source": [
    "Note: Grouping rare title into the group 'Others'"
   ]
  },
  {
   "cell_type": "code",
   "execution_count": 14,
   "id": "c2edaf57",
   "metadata": {},
   "outputs": [],
   "source": [
    "df['Title'] = np.where(df['Title'].isin(['Mr', 'Miss', 'Mrs', 'Master']), df['Title'], 'Others')"
   ]
  },
  {
   "cell_type": "code",
   "execution_count": 15,
   "id": "b1d51d2b",
   "metadata": {},
   "outputs": [
    {
     "data": {
      "text/plain": [
       "Mr        517\n",
       "Miss      182\n",
       "Mrs       125\n",
       "Master     40\n",
       "Others     27\n",
       "Name: Title, dtype: int64"
      ]
     },
     "execution_count": 15,
     "metadata": {},
     "output_type": "execute_result"
    }
   ],
   "source": [
    "df.Title.value_counts()"
   ]
  },
  {
   "cell_type": "markdown",
   "id": "7c36bf87",
   "metadata": {},
   "source": [
    "### Sex"
   ]
  },
  {
   "cell_type": "code",
   "execution_count": 16,
   "id": "459cf100",
   "metadata": {},
   "outputs": [
    {
     "data": {
      "image/png": "[encoded data removed]",
      "text/plain": [
       "<Figure size 360x360 with 1 Axes>"
      ]
     },
     "metadata": {
      "needs_background": "light"
     },
     "output_type": "display_data"
    }
   ],
   "source": [
    "_ = sns.catplot(data = df, x = 'Sex', kind = 'count')"
   ]
  },
  {
   "cell_type": "markdown",
   "id": "f0380432",
   "metadata": {},
   "source": [
    "### Age"
   ]
  },
  {
   "cell_type": "code",
   "execution_count": 17,
   "id": "882f2f4b",
   "metadata": {},
   "outputs": [
    {
     "data": {
      "image/png": "[encoded data removed]",
      "text/plain": [
       "<Figure size 360x360 with 1 Axes>"
      ]
     },
     "metadata": {
      "needs_background": "light"
     },
     "output_type": "display_data"
    }
   ],
   "source": [
    "_ = sns.displot(data = df, x=\"Age\", binwidth=5)"
   ]
  },
  {
   "cell_type": "code",
   "execution_count": 18,
   "id": "a6e7ba61",
   "metadata": {},
   "outputs": [
    {
     "data": {
      "text/plain": [
       "177"
      ]
     },
     "execution_count": 18,
     "metadata": {},
     "output_type": "execute_result"
    }
   ],
   "source": [
    "df.Age.isnull().sum()"
   ]
  },
  {
   "cell_type": "markdown",
   "id": "127a2a7e",
   "metadata": {},
   "source": [
    "The distibution is skewed, hence median is better summarizing the data. Therefore, missing values will be filled with the median of the training set."
   ]
  },
  {
   "cell_type": "markdown",
   "id": "c0c3d5e2",
   "metadata": {},
   "source": [
    "### SibSp & Parch"
   ]
  },
  {
   "cell_type": "code",
   "execution_count": 19,
   "id": "e0c725e1",
   "metadata": {},
   "outputs": [
    {
     "data": {
      "text/plain": [
       "0    608\n",
       "1    209\n",
       "2     28\n",
       "3     16\n",
       "4     18\n",
       "5      5\n",
       "8      7\n",
       "Name: SibSp, dtype: int64"
      ]
     },
     "execution_count": 19,
     "metadata": {},
     "output_type": "execute_result"
    }
   ],
   "source": [
    "df.SibSp.value_counts().sort_index()"
   ]
  },
  {
   "cell_type": "code",
   "execution_count": 20,
   "id": "c39a0081",
   "metadata": {},
   "outputs": [
    {
     "data": {
      "image/png": "[encoded data removed]",
      "text/plain": [
       "<Figure size 360x360 with 1 Axes>"
      ]
     },
     "metadata": {
      "needs_background": "light"
     },
     "output_type": "display_data"
    }
   ],
   "source": [
    "_ = sns.catplot(data = df, x = 'SibSp', kind = 'count')"
   ]
  },
  {
   "cell_type": "code",
   "execution_count": 21,
   "id": "5281f1ad",
   "metadata": {},
   "outputs": [
    {
     "data": {
      "text/plain": [
       "0    678\n",
       "1    118\n",
       "2     80\n",
       "3      5\n",
       "4      4\n",
       "5      5\n",
       "6      1\n",
       "Name: Parch, dtype: int64"
      ]
     },
     "execution_count": 21,
     "metadata": {},
     "output_type": "execute_result"
    }
   ],
   "source": [
    "df.Parch.value_counts().sort_index()"
   ]
  },
  {
   "cell_type": "code",
   "execution_count": 22,
   "id": "7f56f105",
   "metadata": {},
   "outputs": [
    {
     "data": {
      "image/png": "[encoded data removed]",
      "text/plain": [
       "<Figure size 360x360 with 1 Axes>"
      ]
     },
     "metadata": {
      "needs_background": "light"
     },
     "output_type": "display_data"
    }
   ],
   "source": [
    "_ = sns.catplot(data = df, x = 'Parch', kind = 'count')"
   ]
  },
  {
   "cell_type": "code",
   "execution_count": 23,
   "id": "1434199e",
   "metadata": {},
   "outputs": [
    {
     "data": {
      "text/plain": [
       "0     537\n",
       "1     161\n",
       "2     102\n",
       "3      29\n",
       "4      15\n",
       "5      22\n",
       "6      12\n",
       "7       6\n",
       "10      7\n",
       "Name: Family, dtype: int64"
      ]
     },
     "execution_count": 23,
     "metadata": {},
     "output_type": "execute_result"
    }
   ],
   "source": [
    "df['Family'] = df['SibSp'] + df['Parch']\n",
    "df['Family'].value_counts().sort_index()"
   ]
  },
  {
   "cell_type": "code",
   "execution_count": 24,
   "id": "5d859ed9",
   "metadata": {},
   "outputs": [
    {
     "data": {
      "image/png": "[encoded data removed]",
      "text/plain": [
       "<Figure size 360x360 with 1 Axes>"
      ]
     },
     "metadata": {
      "needs_background": "light"
     },
     "output_type": "display_data"
    }
   ],
   "source": [
    "_ = sns.catplot(data = df, x = 'Family', kind = 'count')"
   ]
  },
  {
   "cell_type": "code",
   "execution_count": 25,
   "id": "12d6f55f",
   "metadata": {},
   "outputs": [
    {
     "data": {
      "image/png": "[encoded data removed]",
      "text/plain": [
       "<Figure size 1080x720 with 3 Axes>"
      ]
     },
     "metadata": {
      "needs_background": "light"
     },
     "output_type": "display_data"
    }
   ],
   "source": [
    "plot_respond_by_category(\n",
    "    df_feature = df,\n",
    "    key_columns = 'PassengerId',\n",
    "    columns_group = 'Family',\n",
    "    columns_target = 'Survived',\n",
    "    order = df['Family'].value_counts().sort_index().index.tolist(),\n",
    "    x_label = 'Family number',\n",
    "    chart_name = 'Percent survived for each Family number',\n",
    "    rot = 0,\n",
    "    figwidth = 15,\n",
    "    figheigh = 10)"
   ]
  },
  {
   "cell_type": "markdown",
   "id": "8bbb30bd",
   "metadata": {},
   "source": [
    "grouping family number >= 3 into the same group"
   ]
  },
  {
   "cell_type": "code",
   "execution_count": 26,
   "id": "0d2a6c6e",
   "metadata": {},
   "outputs": [],
   "source": [
    "df['Family'] = np.where(df['Family'].isin([0,1,2]), df['Family'], '>=3')"
   ]
  },
  {
   "cell_type": "markdown",
   "id": "78aacc88",
   "metadata": {},
   "source": [
    "### Ticket"
   ]
  },
  {
   "cell_type": "code",
   "execution_count": 27,
   "id": "d141681f",
   "metadata": {},
   "outputs": [
    {
     "data": {
      "text/plain": [
       "0            A/5 21171\n",
       "1             PC 17599\n",
       "2     STON/O2. 3101282\n",
       "3               113803\n",
       "4               373450\n",
       "5               330877\n",
       "6                17463\n",
       "7               349909\n",
       "8               347742\n",
       "9               237736\n",
       "10             PP 9549\n",
       "11              113783\n",
       "12           A/5. 2151\n",
       "13              347082\n",
       "14              350406\n",
       "15              248706\n",
       "16              382652\n",
       "17              244373\n",
       "18              345763\n",
       "19                2649\n",
       "Name: Ticket, dtype: object"
      ]
     },
     "execution_count": 27,
     "metadata": {},
     "output_type": "execute_result"
    }
   ],
   "source": [
    "df.Ticket.head(20)"
   ]
  },
  {
   "cell_type": "markdown",
   "id": "46d1802e",
   "metadata": {},
   "source": [
    "Don't see any pattern, guessing that there is no information. So, nelect this feature."
   ]
  },
  {
   "cell_type": "markdown",
   "id": "be0aea26",
   "metadata": {},
   "source": [
    "### Fare"
   ]
  },
  {
   "cell_type": "code",
   "execution_count": 28,
   "id": "a53465ed",
   "metadata": {},
   "outputs": [
    {
     "data": {
      "image/png": "[encoded data removed]",
      "text/plain": [
       "<Figure size 360x360 with 1 Axes>"
      ]
     },
     "metadata": {
      "needs_background": "light"
     },
     "output_type": "display_data"
    }
   ],
   "source": [
    "_ = sns.displot(data = df, x=\"Fare\", binwidth=20)"
   ]
  },
  {
   "cell_type": "markdown",
   "id": "6ef49b2f",
   "metadata": {},
   "source": [
    "### Cabin"
   ]
  },
  {
   "cell_type": "code",
   "execution_count": 29,
   "id": "e11410b0",
   "metadata": {},
   "outputs": [
    {
     "data": {
      "text/plain": [
       "1             C85\n",
       "3            C123\n",
       "6             E46\n",
       "10             G6\n",
       "11           C103\n",
       "21            D56\n",
       "23             A6\n",
       "27    C23 C25 C27\n",
       "31            B78\n",
       "52            D33\n",
       "Name: Cabin, dtype: object"
      ]
     },
     "execution_count": 29,
     "metadata": {},
     "output_type": "execute_result"
    }
   ],
   "source": [
    "df[df.Cabin.notnull()].Cabin.head(10)"
   ]
  },
  {
   "cell_type": "code",
   "execution_count": 30,
   "id": "07c0f086",
   "metadata": {},
   "outputs": [],
   "source": [
    "df['Cabin_group'] = df['Cabin'].str[0]"
   ]
  },
  {
   "cell_type": "code",
   "execution_count": 31,
   "id": "b5fe014c",
   "metadata": {},
   "outputs": [
    {
     "data": {
      "text/plain": [
       "C    59\n",
       "B    47\n",
       "D    33\n",
       "E    32\n",
       "A    15\n",
       "F    13\n",
       "G     4\n",
       "T     1\n",
       "Name: Cabin_group, dtype: int64"
      ]
     },
     "execution_count": 31,
     "metadata": {},
     "output_type": "execute_result"
    }
   ],
   "source": [
    "df['Cabin_group'].value_counts()"
   ]
  },
  {
   "cell_type": "code",
   "execution_count": 32,
   "id": "042582fb",
   "metadata": {},
   "outputs": [
    {
     "data": {
      "image/png": "[encoded data removed]",
      "text/plain": [
       "<Figure size 360x360 with 1 Axes>"
      ]
     },
     "metadata": {
      "needs_background": "light"
     },
     "output_type": "display_data"
    }
   ],
   "source": [
    "_ = sns.catplot(data = df, x = 'Cabin_group', kind = 'count')"
   ]
  },
  {
   "cell_type": "code",
   "execution_count": 33,
   "id": "c7002356",
   "metadata": {},
   "outputs": [
    {
     "data": {
      "text/plain": [
       "0.7710437710437711"
      ]
     },
     "execution_count": 33,
     "metadata": {},
     "output_type": "execute_result"
    }
   ],
   "source": [
    "df.Cabin.isnull().mean()"
   ]
  },
  {
   "cell_type": "markdown",
   "id": "07d327a1",
   "metadata": {},
   "source": [
    "Lots of data are missing. The new group, namely, 'Missing', will be introduce in this case."
   ]
  },
  {
   "cell_type": "code",
   "execution_count": 34,
   "id": "c049c25d",
   "metadata": {},
   "outputs": [],
   "source": [
    "df['Cabin_group'] = df['Cabin_group'].fillna('Missing')"
   ]
  },
  {
   "cell_type": "code",
   "execution_count": 35,
   "id": "1400b731",
   "metadata": {},
   "outputs": [
    {
     "data": {
      "image/png": "[encoded data removed]",
      "text/plain": [
       "<Figure size 1080x720 with 3 Axes>"
      ]
     },
     "metadata": {
      "needs_background": "light"
     },
     "output_type": "display_data"
    }
   ],
   "source": [
    "plot_respond_by_category(\n",
    "    df_feature = df,\n",
    "    key_columns = 'PassengerId',\n",
    "    columns_group = 'Cabin_group',\n",
    "    columns_target = 'Survived',\n",
    "    order = df['Cabin_group'].value_counts().sort_index().index.tolist(),\n",
    "    x_label = 'Cabin_group',\n",
    "    chart_name = 'Percent survived for each Cabin_group',\n",
    "    rot = 0,\n",
    "    figwidth = 15,\n",
    "    figheigh = 10)"
   ]
  },
  {
   "cell_type": "markdown",
   "id": "cd686c5a",
   "metadata": {},
   "source": [
    "Moreoverm grouping F,G,T into 'Others'"
   ]
  },
  {
   "cell_type": "code",
   "execution_count": 36,
   "id": "8b409f13",
   "metadata": {},
   "outputs": [],
   "source": [
    "df['Cabin_group'] = np.where(df['Cabin_group'].isin(['F','G','T']), 'Others', df['Cabin_group'])"
   ]
  },
  {
   "cell_type": "markdown",
   "id": "626f4d6c",
   "metadata": {},
   "source": [
    "### Embarked"
   ]
  },
  {
   "cell_type": "code",
   "execution_count": 37,
   "id": "ca40d8a0",
   "metadata": {},
   "outputs": [
    {
     "data": {
      "image/png": "[encoded data removed]",
      "text/plain": [
       "<Figure size 360x360 with 1 Axes>"
      ]
     },
     "metadata": {
      "needs_background": "light"
     },
     "output_type": "display_data"
    }
   ],
   "source": [
    "_ = sns.catplot(data = df, x = 'Embarked', kind = 'count')"
   ]
  },
  {
   "cell_type": "code",
   "execution_count": 38,
   "id": "58cc4d8e",
   "metadata": {},
   "outputs": [
    {
     "data": {
      "text/plain": [
       "S    0.724409\n",
       "C    0.188976\n",
       "Q    0.086614\n",
       "Name: Embarked, dtype: float64"
      ]
     },
     "execution_count": 38,
     "metadata": {},
     "output_type": "execute_result"
    }
   ],
   "source": [
    "df.Embarked.value_counts(normalize = True)"
   ]
  },
  {
   "cell_type": "markdown",
   "id": "d5122225",
   "metadata": {},
   "source": [
    "Note: The majority class for 'Embarked' is S which cover > 70% of the sample. The missing values could be imputed by this class. "
   ]
  },
  {
   "cell_type": "code",
   "execution_count": 39,
   "id": "7e409e66",
   "metadata": {},
   "outputs": [],
   "source": [
    "df['Embarked'] = df['Embarked'].fillna('S')"
   ]
  },
  {
   "cell_type": "markdown",
   "id": "95225887",
   "metadata": {},
   "source": [
    "# Insight"
   ]
  },
  {
   "cell_type": "code",
   "execution_count": 40,
   "id": "2aaf8d69",
   "metadata": {},
   "outputs": [],
   "source": [
    "categorical_feature = ['Pclass', 'Sex', 'Embarked', 'Title', 'Family', 'Cabin_group']\n",
    "numerical_feature = ['Age', 'Fare']"
   ]
  },
  {
   "cell_type": "code",
   "execution_count": 41,
   "id": "55e0d854",
   "metadata": {
    "scrolled": false
   },
   "outputs": [
    {
     "data": {
      "image/png": "[encoded data removed]",
      "text/plain": [
       "<Figure size 1080x360 with 3 Axes>"
      ]
     },
     "metadata": {
      "needs_background": "light"
     },
     "output_type": "display_data"
    }
   ],
   "source": [
    "i = 'Pclass'\n",
    "plot_respond_by_category(\n",
    "        df_feature = df,\n",
    "        key_columns = 'PassengerId',\n",
    "        columns_group = i,\n",
    "        columns_target = 'Survived',\n",
    "        order = [1,2,3],\n",
    "        x_label = i,\n",
    "        chart_name = f'Percent survived for each {i}',\n",
    "        rot = 0,\n",
    "        figwidth = 15,\n",
    "        figheigh = 5)"
   ]
  },
  {
   "cell_type": "code",
   "execution_count": 42,
   "id": "5bf987f3",
   "metadata": {},
   "outputs": [
    {
     "data": {
      "image/png": "[encoded data removed]",
      "text/plain": [
       "<Figure size 1080x360 with 3 Axes>"
      ]
     },
     "metadata": {
      "needs_background": "light"
     },
     "output_type": "display_data"
    }
   ],
   "source": [
    "i = 'Sex'\n",
    "plot_respond_by_category(\n",
    "        df_feature = df,\n",
    "        key_columns = 'PassengerId',\n",
    "        columns_group = i,\n",
    "        columns_target = 'Survived',\n",
    "        order = df[i].unique(),\n",
    "        x_label = i,\n",
    "        chart_name = f'Percent survived for each {i}',\n",
    "        rot = 0,\n",
    "        figwidth = 15,\n",
    "        figheigh = 5)"
   ]
  },
  {
   "cell_type": "code",
   "execution_count": 43,
   "id": "e678a846",
   "metadata": {},
   "outputs": [
    {
     "data": {
      "image/png": "[encoded data removed]",
      "text/plain": [
       "<Figure size 1080x360 with 3 Axes>"
      ]
     },
     "metadata": {
      "needs_background": "light"
     },
     "output_type": "display_data"
    }
   ],
   "source": [
    "i = 'Embarked'\n",
    "plot_respond_by_category(\n",
    "        df_feature = df,\n",
    "        key_columns = 'PassengerId',\n",
    "        columns_group = i,\n",
    "        columns_target = 'Survived',\n",
    "        order = ['S', 'Q', 'C'],\n",
    "        x_label = i,\n",
    "        chart_name = f'Percent survived for each {i}',\n",
    "        rot = 0,\n",
    "        figwidth = 15,\n",
    "        figheigh = 5)"
   ]
  },
  {
   "cell_type": "code",
   "execution_count": 44,
   "id": "7a472f54",
   "metadata": {},
   "outputs": [
    {
     "data": {
      "image/png": "[encoded data removed]",
      "text/plain": [
       "<Figure size 1080x360 with 3 Axes>"
      ]
     },
     "metadata": {
      "needs_background": "light"
     },
     "output_type": "display_data"
    }
   ],
   "source": [
    "i = 'Title'\n",
    "plot_respond_by_category(\n",
    "        df_feature = df,\n",
    "        key_columns = 'PassengerId',\n",
    "        columns_group = i,\n",
    "        columns_target = 'Survived',\n",
    "        order = df[i].unique(),\n",
    "        x_label = i,\n",
    "        chart_name = f'Percent survived for each {i}',\n",
    "        rot = 0,\n",
    "        figwidth = 15,\n",
    "        figheigh = 5)"
   ]
  },
  {
   "cell_type": "code",
   "execution_count": 45,
   "id": "7052bda1",
   "metadata": {},
   "outputs": [
    {
     "data": {
      "image/png": "[encoded data removed]",
      "text/plain": [
       "<Figure size 1080x360 with 3 Axes>"
      ]
     },
     "metadata": {
      "needs_background": "light"
     },
     "output_type": "display_data"
    }
   ],
   "source": [
    "i = 'Family'\n",
    "plot_respond_by_category(\n",
    "        df_feature = df,\n",
    "        key_columns = 'PassengerId',\n",
    "        columns_group = i,\n",
    "        columns_target = 'Survived',\n",
    "        order = ['0','1','2','>=3'],\n",
    "        x_label = i,\n",
    "        chart_name = f'Percent survived for each {i}',\n",
    "        rot = 0,\n",
    "        figwidth = 15,\n",
    "        figheigh = 5)"
   ]
  },
  {
   "cell_type": "code",
   "execution_count": 46,
   "id": "ea3ff83f",
   "metadata": {},
   "outputs": [
    {
     "data": {
      "image/png": "[encoded data removed]",
      "text/plain": [
       "<Figure size 1080x360 with 3 Axes>"
      ]
     },
     "metadata": {
      "needs_background": "light"
     },
     "output_type": "display_data"
    }
   ],
   "source": [
    "i = 'Cabin_group'\n",
    "plot_respond_by_category(\n",
    "        df_feature = df,\n",
    "        key_columns = 'PassengerId',\n",
    "        columns_group = i,\n",
    "        columns_target = 'Survived',\n",
    "        order = ['A','B','C','D','E','Others','Missing'],\n",
    "        x_label = i,\n",
    "        chart_name = f'Percent survived for each {i}',\n",
    "        rot = 0,\n",
    "        figwidth = 15,\n",
    "        figheigh = 5)"
   ]
  },
  {
   "cell_type": "code",
   "execution_count": 47,
   "id": "a3572a7c",
   "metadata": {},
   "outputs": [
    {
     "data": {
      "image/png": "[encoded data removed]",
      "text/plain": [
       "<Figure size 432x288 with 1 Axes>"
      ]
     },
     "metadata": {
      "needs_background": "light"
     },
     "output_type": "display_data"
    }
   ],
   "source": [
    "_ = sns.boxplot(data = df, y = 'Age', x = 'Survived', order=[0,1])\n",
    "_ = plt.title('Age', fontsize = 15)\n",
    "_ = plt.show()"
   ]
  },
  {
   "cell_type": "code",
   "execution_count": 48,
   "id": "3430bf70",
   "metadata": {},
   "outputs": [
    {
     "data": {
      "image/png": "[encoded data removed]",
      "text/plain": [
       "<Figure size 432x288 with 1 Axes>"
      ]
     },
     "metadata": {
      "needs_background": "light"
     },
     "output_type": "display_data"
    }
   ],
   "source": [
    "_ = sns.boxplot(data = df, y = 'Fare', x = 'Survived', order=[0,1], showfliers = False)\n",
    "_ = plt.title('Fare', fontsize = 15)\n",
    "_ = plt.show()"
   ]
  },
  {
   "cell_type": "markdown",
   "id": "266b451f",
   "metadata": {},
   "source": [
    "# Split data into train, validation and test set"
   ]
  },
  {
   "cell_type": "code",
   "execution_count": 49,
   "id": "6367fd18",
   "metadata": {},
   "outputs": [
    {
     "data": {
      "text/html": [
       "<div>\n",
       "<style scoped>\n",
       "    .dataframe tbody tr th:only-of-type {\n",
       "        vertical-align: middle;\n",
       "    }\n",
       "\n",
       "    .dataframe tbody tr th {\n",
       "        vertical-align: top;\n",
       "    }\n",
       "\n",
       "    .dataframe thead th {\n",
       "        text-align: right;\n",
       "    }\n",
       "</style>\n",
       "<table border=\"1\" class=\"dataframe\">\n",
       "  <thead>\n",
       "    <tr style=\"text-align: right;\">\n",
       "      <th></th>\n",
       "      <th>PassengerId</th>\n",
       "      <th>Survived</th>\n",
       "      <th>Pclass</th>\n",
       "      <th>Name</th>\n",
       "      <th>Sex</th>\n",
       "      <th>Age</th>\n",
       "      <th>SibSp</th>\n",
       "      <th>Parch</th>\n",
       "      <th>Ticket</th>\n",
       "      <th>Fare</th>\n",
       "      <th>Cabin</th>\n",
       "      <th>Embarked</th>\n",
       "      <th>Title</th>\n",
       "      <th>Family</th>\n",
       "      <th>Cabin_group</th>\n",
       "    </tr>\n",
       "  </thead>\n",
       "  <tbody>\n",
       "    <tr>\n",
       "      <th>0</th>\n",
       "      <td>1</td>\n",
       "      <td>0</td>\n",
       "      <td>3</td>\n",
       "      <td>Braund, Mr. Owen Harris</td>\n",
       "      <td>male</td>\n",
       "      <td>22.0</td>\n",
       "      <td>1</td>\n",
       "      <td>0</td>\n",
       "      <td>A/5 21171</td>\n",
       "      <td>7.2500</td>\n",
       "      <td>NaN</td>\n",
       "      <td>S</td>\n",
       "      <td>Mr</td>\n",
       "      <td>1</td>\n",
       "      <td>Missing</td>\n",
       "    </tr>\n",
       "    <tr>\n",
       "      <th>1</th>\n",
       "      <td>2</td>\n",
       "      <td>1</td>\n",
       "      <td>1</td>\n",
       "      <td>Cumings, Mrs. John Bradley (Florence Briggs Th...</td>\n",
       "      <td>female</td>\n",
       "      <td>38.0</td>\n",
       "      <td>1</td>\n",
       "      <td>0</td>\n",
       "      <td>PC 17599</td>\n",
       "      <td>71.2833</td>\n",
       "      <td>C85</td>\n",
       "      <td>C</td>\n",
       "      <td>Mrs</td>\n",
       "      <td>1</td>\n",
       "      <td>C</td>\n",
       "    </tr>\n",
       "    <tr>\n",
       "      <th>2</th>\n",
       "      <td>3</td>\n",
       "      <td>1</td>\n",
       "      <td>3</td>\n",
       "      <td>Heikkinen, Miss. Laina</td>\n",
       "      <td>female</td>\n",
       "      <td>26.0</td>\n",
       "      <td>0</td>\n",
       "      <td>0</td>\n",
       "      <td>STON/O2. 3101282</td>\n",
       "      <td>7.9250</td>\n",
       "      <td>NaN</td>\n",
       "      <td>S</td>\n",
       "      <td>Miss</td>\n",
       "      <td>0</td>\n",
       "      <td>Missing</td>\n",
       "    </tr>\n",
       "    <tr>\n",
       "      <th>3</th>\n",
       "      <td>4</td>\n",
       "      <td>1</td>\n",
       "      <td>1</td>\n",
       "      <td>Futrelle, Mrs. Jacques Heath (Lily May Peel)</td>\n",
       "      <td>female</td>\n",
       "      <td>35.0</td>\n",
       "      <td>1</td>\n",
       "      <td>0</td>\n",
       "      <td>113803</td>\n",
       "      <td>53.1000</td>\n",
       "      <td>C123</td>\n",
       "      <td>S</td>\n",
       "      <td>Mrs</td>\n",
       "      <td>1</td>\n",
       "      <td>C</td>\n",
       "    </tr>\n",
       "    <tr>\n",
       "      <th>4</th>\n",
       "      <td>5</td>\n",
       "      <td>0</td>\n",
       "      <td>3</td>\n",
       "      <td>Allen, Mr. William Henry</td>\n",
       "      <td>male</td>\n",
       "      <td>35.0</td>\n",
       "      <td>0</td>\n",
       "      <td>0</td>\n",
       "      <td>373450</td>\n",
       "      <td>8.0500</td>\n",
       "      <td>NaN</td>\n",
       "      <td>S</td>\n",
       "      <td>Mr</td>\n",
       "      <td>0</td>\n",
       "      <td>Missing</td>\n",
       "    </tr>\n",
       "  </tbody>\n",
       "</table>\n",
       "</div>"
      ],
      "text/plain": [
       "   PassengerId  Survived  Pclass  \\\n",
       "0            1         0       3   \n",
       "1            2         1       1   \n",
       "2            3         1       3   \n",
       "3            4         1       1   \n",
       "4            5         0       3   \n",
       "\n",
       "                                                Name     Sex   Age  SibSp  \\\n",
       "0                            Braund, Mr. Owen Harris    male  22.0      1   \n",
       "1  Cumings, Mrs. John Bradley (Florence Briggs Th...  female  38.0      1   \n",
       "2                             Heikkinen, Miss. Laina  female  26.0      0   \n",
       "3       Futrelle, Mrs. Jacques Heath (Lily May Peel)  female  35.0      1   \n",
       "4                           Allen, Mr. William Henry    male  35.0      0   \n",
       "\n",
       "   Parch            Ticket     Fare Cabin Embarked Title Family Cabin_group  \n",
       "0      0         A/5 21171   7.2500   NaN        S    Mr      1     Missing  \n",
       "1      0          PC 17599  71.2833   C85        C   Mrs      1           C  \n",
       "2      0  STON/O2. 3101282   7.9250   NaN        S  Miss      0     Missing  \n",
       "3      0            113803  53.1000  C123        S   Mrs      1           C  \n",
       "4      0            373450   8.0500   NaN        S    Mr      0     Missing  "
      ]
     },
     "execution_count": 49,
     "metadata": {},
     "output_type": "execute_result"
    }
   ],
   "source": [
    "df.head()"
   ]
  },
  {
   "cell_type": "code",
   "execution_count": 50,
   "id": "26673fb2",
   "metadata": {},
   "outputs": [],
   "source": [
    "df[categorical_feature] = df[categorical_feature].astype('category')"
   ]
  },
  {
   "cell_type": "code",
   "execution_count": 51,
   "id": "d3d84bd7",
   "metadata": {},
   "outputs": [],
   "source": [
    "X = df[['Pclass', 'Sex', 'Age', 'Fare', 'Embarked', 'Title', 'Family', 'Cabin_group']]\n",
    "y = df['Survived']"
   ]
  },
  {
   "cell_type": "code",
   "execution_count": 52,
   "id": "ccd5c460",
   "metadata": {},
   "outputs": [],
   "source": [
    "X1, X_test, y1, y_test = train_test_split(X, y, random_state = 40, stratify = y, test_size = 0.1)"
   ]
  },
  {
   "cell_type": "code",
   "execution_count": 53,
   "id": "d9320609",
   "metadata": {},
   "outputs": [],
   "source": [
    "X_train, X_val, y_train, y_val = train_test_split(X1, y1, random_state = 40, stratify = y1, test_size = 0.1)\n",
    "\n",
    "#will use this for gridsearch\n",
    "split_index = [-1 if x in X_train.index else 0 for x in X1.index]\n",
    "\n",
    "pds = PredefinedSplit(test_fold = split_index)"
   ]
  },
  {
   "cell_type": "code",
   "execution_count": 54,
   "id": "0b58dfb0",
   "metadata": {},
   "outputs": [
    {
     "data": {
      "text/plain": [
       "(720, 8)"
      ]
     },
     "execution_count": 54,
     "metadata": {},
     "output_type": "execute_result"
    },
    {
     "data": {
      "text/plain": [
       "(81, 8)"
      ]
     },
     "execution_count": 54,
     "metadata": {},
     "output_type": "execute_result"
    },
    {
     "data": {
      "text/plain": [
       "(90, 8)"
      ]
     },
     "execution_count": 54,
     "metadata": {},
     "output_type": "execute_result"
    },
    {
     "data": {
      "text/plain": [
       "(720,)"
      ]
     },
     "execution_count": 54,
     "metadata": {},
     "output_type": "execute_result"
    },
    {
     "data": {
      "text/plain": [
       "(81,)"
      ]
     },
     "execution_count": 54,
     "metadata": {},
     "output_type": "execute_result"
    },
    {
     "data": {
      "text/plain": [
       "(90,)"
      ]
     },
     "execution_count": 54,
     "metadata": {},
     "output_type": "execute_result"
    }
   ],
   "source": [
    "X_train.shape\n",
    "X_val.shape\n",
    "X_test.shape\n",
    "\n",
    "y_train.shape\n",
    "y_val.shape\n",
    "y_test.shape"
   ]
  },
  {
   "cell_type": "markdown",
   "id": "992ece68",
   "metadata": {},
   "source": [
    "### impute missing age"
   ]
  },
  {
   "cell_type": "code",
   "execution_count": 55,
   "id": "b1f25831",
   "metadata": {
    "scrolled": false
   },
   "outputs": [
    {
     "name": "stderr",
     "output_type": "stream",
     "text": [
      "<ipython-input-55-f01bd808b5c4>:3: SettingWithCopyWarning: \n",
      "A value is trying to be set on a copy of a slice from a DataFrame.\n",
      "Try using .loc[row_indexer,col_indexer] = value instead\n",
      "\n",
      "See the caveats in the documentation: https://pandas.pydata.org/pandas-docs/stable/user_guide/indexing.html#returning-a-view-versus-a-copy\n",
      "  X_train['Age'] = X_train['Age'].fillna(age_mean)\n",
      "<ipython-input-55-f01bd808b5c4>:4: SettingWithCopyWarning: \n",
      "A value is trying to be set on a copy of a slice from a DataFrame.\n",
      "Try using .loc[row_indexer,col_indexer] = value instead\n",
      "\n",
      "See the caveats in the documentation: https://pandas.pydata.org/pandas-docs/stable/user_guide/indexing.html#returning-a-view-versus-a-copy\n",
      "  X_val['Age'] = X_val['Age'].fillna(age_mean)\n",
      "<ipython-input-55-f01bd808b5c4>:5: SettingWithCopyWarning: \n",
      "A value is trying to be set on a copy of a slice from a DataFrame.\n",
      "Try using .loc[row_indexer,col_indexer] = value instead\n",
      "\n",
      "See the caveats in the documentation: https://pandas.pydata.org/pandas-docs/stable/user_guide/indexing.html#returning-a-view-versus-a-copy\n",
      "  X_test['Age'] = X_test['Age'].fillna(age_mean)\n"
     ]
    }
   ],
   "source": [
    "age_mean = X_train.Age.median()\n",
    "\n",
    "X_train['Age'] = X_train['Age'].fillna(age_mean)\n",
    "X_val['Age'] = X_val['Age'].fillna(age_mean)\n",
    "X_test['Age'] = X_test['Age'].fillna(age_mean)"
   ]
  },
  {
   "cell_type": "code",
   "execution_count": 56,
   "id": "75d0cbd5",
   "metadata": {},
   "outputs": [
    {
     "data": {
      "text/plain": [
       "0"
      ]
     },
     "execution_count": 56,
     "metadata": {},
     "output_type": "execute_result"
    },
    {
     "data": {
      "text/plain": [
       "0"
      ]
     },
     "execution_count": 56,
     "metadata": {},
     "output_type": "execute_result"
    },
    {
     "data": {
      "text/plain": [
       "0"
      ]
     },
     "execution_count": 56,
     "metadata": {},
     "output_type": "execute_result"
    }
   ],
   "source": [
    "X_train.isnull().sum().sum()\n",
    "X_val.isnull().sum().sum()\n",
    "X_test.isnull().sum().sum()"
   ]
  },
  {
   "cell_type": "markdown",
   "id": "d00fd586",
   "metadata": {},
   "source": [
    "### check distribution of train, val, test set"
   ]
  },
  {
   "cell_type": "markdown",
   "id": "963e2484",
   "metadata": {},
   "source": [
    "Next, we check that the all train, validation and test set have the same distribution"
   ]
  },
  {
   "cell_type": "code",
   "execution_count": 57,
   "id": "4fd61486",
   "metadata": {},
   "outputs": [],
   "source": [
    "categorical_feature = ['Pclass', 'Sex', 'Embarked', 'Title', 'Family', 'Cabin_group']\n",
    "numerical_feature = ['Age', 'Fare']"
   ]
  },
  {
   "cell_type": "code",
   "execution_count": 58,
   "id": "3b8a766a",
   "metadata": {
    "scrolled": false
   },
   "outputs": [
    {
     "data": {
      "image/png": "[encoded data removed]",
      "text/plain": [
       "<Figure size 432x288 with 1 Axes>"
      ]
     },
     "metadata": {
      "needs_background": "light"
     },
     "output_type": "display_data"
    },
    {
     "name": "stdout",
     "output_type": "stream",
     "text": [
      "--------------------------------------------------------------------------------------------\n"
     ]
    },
    {
     "data": {
      "image/png": "[encoded data removed]",
      "text/plain": [
       "<Figure size 432x288 with 1 Axes>"
      ]
     },
     "metadata": {
      "needs_background": "light"
     },
     "output_type": "display_data"
    },
    {
     "name": "stdout",
     "output_type": "stream",
     "text": [
      "--------------------------------------------------------------------------------------------\n"
     ]
    },
    {
     "data": {
      "image/png": "[encoded data removed]",
      "text/plain": [
       "<Figure size 432x288 with 1 Axes>"
      ]
     },
     "metadata": {
      "needs_background": "light"
     },
     "output_type": "display_data"
    },
    {
     "name": "stdout",
     "output_type": "stream",
     "text": [
      "--------------------------------------------------------------------------------------------\n"
     ]
    },
    {
     "data": {
      "image/png": "[encoded data removed]",
      "text/plain": [
       "<Figure size 432x288 with 1 Axes>"
      ]
     },
     "metadata": {
      "needs_background": "light"
     },
     "output_type": "display_data"
    },
    {
     "name": "stdout",
     "output_type": "stream",
     "text": [
      "--------------------------------------------------------------------------------------------\n"
     ]
    },
    {
     "data": {
      "image/png": "[encoded data removed]",
      "text/plain": [
       "<Figure size 432x288 with 1 Axes>"
      ]
     },
     "metadata": {
      "needs_background": "light"
     },
     "output_type": "display_data"
    },
    {
     "name": "stdout",
     "output_type": "stream",
     "text": [
      "--------------------------------------------------------------------------------------------\n"
     ]
    },
    {
     "data": {
      "image/png": "[encoded data removed]",
      "text/plain": [
       "<Figure size 432x288 with 1 Axes>"
      ]
     },
     "metadata": {
      "needs_background": "light"
     },
     "output_type": "display_data"
    },
    {
     "name": "stdout",
     "output_type": "stream",
     "text": [
      "--------------------------------------------------------------------------------------------\n"
     ]
    }
   ],
   "source": [
    "for i in categorical_feature:\n",
    "    dist_train = X_train[i].value_counts(normalize = True).reset_index()\n",
    "    dist_train['dataset'] = 'train'\n",
    "\n",
    "    dist_val = X_val[i].value_counts(normalize = True).reset_index()\n",
    "    dist_val['dataset'] = 'val'\n",
    "\n",
    "    dist_test = X_test[i].value_counts(normalize = True).reset_index()\n",
    "    dist_test['dataset'] = 'test'\n",
    "    \n",
    "    tmp_df = pd.concat([dist_train,dist_val,dist_test])\n",
    "    _ = sns.barplot(data = tmp_df, x = 'index', y = i, hue = 'dataset')\n",
    "    _ = plt.xlabel('category')\n",
    "    _ = plt.ylabel('proportion of each category')\n",
    "    _ = plt.title(i, fontsize=15)\n",
    "    _ = plt.show()\n",
    "    \n",
    "    print('--------------------------------------------------------------------------------------------')"
   ]
  },
  {
   "cell_type": "code",
   "execution_count": 59,
   "id": "c9a46fe6",
   "metadata": {},
   "outputs": [],
   "source": [
    "dist_train = X_train.copy()\n",
    "dist_train['dataset'] = 'train'\n",
    "\n",
    "dist_val = X_val.copy()\n",
    "dist_val['dataset'] = 'val'\n",
    "\n",
    "dist_test = X_test.copy()\n",
    "dist_test['dataset'] = 'test'\n",
    "\n",
    "dist_all = pd.concat([dist_train, dist_val, dist_test])"
   ]
  },
  {
   "cell_type": "code",
   "execution_count": 60,
   "id": "f60c6199",
   "metadata": {},
   "outputs": [
    {
     "data": {
      "image/png": "[encoded data removed]",
      "text/plain": [
       "<Figure size 432x288 with 1 Axes>"
      ]
     },
     "metadata": {
      "needs_background": "light"
     },
     "output_type": "display_data"
    },
    {
     "data": {
      "image/png": "[encoded data removed]",
      "text/plain": [
       "<Figure size 432x288 with 1 Axes>"
      ]
     },
     "metadata": {
      "needs_background": "light"
     },
     "output_type": "display_data"
    }
   ],
   "source": [
    "for i in numerical_feature:\n",
    "    _ = sns.boxplot(data = dist_all, x = 'dataset', y = i)\n",
    "    _ = plt.title(i, fontsize=15)\n",
    "    _ = plt.show()"
   ]
  },
  {
   "cell_type": "code",
   "execution_count": 61,
   "id": "2299f293",
   "metadata": {},
   "outputs": [
    {
     "data": {
      "image/png": "[encoded data removed]",
      "text/plain": [
       "<Figure size 432x288 with 1 Axes>"
      ]
     },
     "metadata": {
      "needs_background": "light"
     },
     "output_type": "display_data"
    }
   ],
   "source": [
    "_ = sns.boxplot(data = dist_all, x = 'dataset', y = 'Fare', showfliers = False)\n",
    "_ = plt.title('Fare', fontsize=15)\n",
    "_ = plt.show()"
   ]
  },
  {
   "cell_type": "markdown",
   "id": "1bb113f3",
   "metadata": {},
   "source": [
    "All distribution are quite similar."
   ]
  },
  {
   "cell_type": "markdown",
   "id": "59f4733c",
   "metadata": {},
   "source": [
    "# Feature selection"
   ]
  },
  {
   "cell_type": "markdown",
   "id": "2c6e3044",
   "metadata": {},
   "source": [
    "### Remove constant feature"
   ]
  },
  {
   "cell_type": "code",
   "execution_count": 62,
   "id": "20f6c601",
   "metadata": {},
   "outputs": [],
   "source": [
    "constant_feature = [x for x in X_train.columns if (df[x].nunique() == 1)]"
   ]
  },
  {
   "cell_type": "code",
   "execution_count": 63,
   "id": "1124c914",
   "metadata": {},
   "outputs": [
    {
     "data": {
      "text/plain": [
       "[]"
      ]
     },
     "execution_count": 63,
     "metadata": {},
     "output_type": "execute_result"
    }
   ],
   "source": [
    "constant_feature"
   ]
  },
  {
   "cell_type": "code",
   "execution_count": 64,
   "id": "6d357251",
   "metadata": {},
   "outputs": [
    {
     "name": "stderr",
     "output_type": "stream",
     "text": [
      "/Users/630212/opt/anaconda3/lib/python3.8/site-packages/pandas/core/frame.py:4308: SettingWithCopyWarning: \n",
      "A value is trying to be set on a copy of a slice from a DataFrame\n",
      "\n",
      "See the caveats in the documentation: https://pandas.pydata.org/pandas-docs/stable/user_guide/indexing.html#returning-a-view-versus-a-copy\n",
      "  return super().drop(\n"
     ]
    }
   ],
   "source": [
    "X_train.drop(columns = constant_feature, inplace = True)\n",
    "X_val.drop(columns = constant_feature, inplace = True)\n",
    "X_test.drop(columns = constant_feature, inplace = True)"
   ]
  },
  {
   "cell_type": "markdown",
   "id": "2a786e68",
   "metadata": {},
   "source": [
    "### Remove Quasi-constant feature"
   ]
  },
  {
   "cell_type": "markdown",
   "id": "778c7896",
   "metadata": {},
   "source": [
    "remove feature that > 99% of the values are the same"
   ]
  },
  {
   "cell_type": "code",
   "execution_count": 65,
   "id": "65a09437",
   "metadata": {},
   "outputs": [],
   "source": [
    "quasi_constant_feature = []\n",
    "for x in X_train.columns:\n",
    "\n",
    "    predominant = X_train[x].value_counts(normalize = True).sort_values(ascending=False).values[0]\n",
    "\n",
    "    if predominant > 0.99:\n",
    "        quasi_constant_feature.append(x)"
   ]
  },
  {
   "cell_type": "code",
   "execution_count": 66,
   "id": "27d02fd7",
   "metadata": {},
   "outputs": [
    {
     "data": {
      "text/plain": [
       "[]"
      ]
     },
     "execution_count": 66,
     "metadata": {},
     "output_type": "execute_result"
    }
   ],
   "source": [
    "quasi_constant_feature"
   ]
  },
  {
   "cell_type": "code",
   "execution_count": 67,
   "id": "f53d9c0b",
   "metadata": {},
   "outputs": [],
   "source": [
    "X_train.drop(columns = quasi_constant_feature, inplace = True)\n",
    "X_val.drop(columns = quasi_constant_feature, inplace = True)\n",
    "X_test.drop(columns = quasi_constant_feature, inplace = True)"
   ]
  },
  {
   "cell_type": "markdown",
   "id": "dee937a5",
   "metadata": {},
   "source": [
    "### Remove duplicated feature"
   ]
  },
  {
   "cell_type": "code",
   "execution_count": 68,
   "id": "42c4686a",
   "metadata": {},
   "outputs": [],
   "source": [
    "factors_paired = list(combinations(X_train.columns, 2))\n",
    "\n",
    "duplicated_pair = []\n",
    "\n",
    "for f in factors_paired:\n",
    "    if X_train[f[0]].equals(X_train[f[1]]):\n",
    "        duplicated_pair.append(f)"
   ]
  },
  {
   "cell_type": "code",
   "execution_count": 69,
   "id": "d39ed5fd",
   "metadata": {},
   "outputs": [
    {
     "data": {
      "text/plain": [
       "[]"
      ]
     },
     "execution_count": 69,
     "metadata": {},
     "output_type": "execute_result"
    }
   ],
   "source": [
    "duplicated_pair"
   ]
  },
  {
   "cell_type": "markdown",
   "id": "20372585",
   "metadata": {},
   "source": [
    "### Remove corelated feature"
   ]
  },
  {
   "cell_type": "code",
   "execution_count": 70,
   "id": "a6ed45af",
   "metadata": {},
   "outputs": [
    {
     "data": {
      "text/plain": [
       "<AxesSubplot:>"
      ]
     },
     "execution_count": 70,
     "metadata": {},
     "output_type": "execute_result"
    },
    {
     "data": {
      "image/png": "[encoded data removed]",
      "text/plain": [
       "<Figure size 360x360 with 2 Axes>"
      ]
     },
     "metadata": {
      "needs_background": "light"
     },
     "output_type": "display_data"
    }
   ],
   "source": [
    "corrmat = X_train[numerical_feature].corr()\n",
    "fig, ax = plt.subplots()\n",
    "fig.set_size_inches(5,5)\n",
    "sns.heatmap(corrmat)"
   ]
  },
  {
   "cell_type": "code",
   "execution_count": 71,
   "id": "3c18abb2",
   "metadata": {},
   "outputs": [
    {
     "data": {
      "text/html": [
       "<div>\n",
       "<style scoped>\n",
       "    .dataframe tbody tr th:only-of-type {\n",
       "        vertical-align: middle;\n",
       "    }\n",
       "\n",
       "    .dataframe tbody tr th {\n",
       "        vertical-align: top;\n",
       "    }\n",
       "\n",
       "    .dataframe thead th {\n",
       "        text-align: right;\n",
       "    }\n",
       "</style>\n",
       "<table border=\"1\" class=\"dataframe\">\n",
       "  <thead>\n",
       "    <tr style=\"text-align: right;\">\n",
       "      <th></th>\n",
       "      <th>Age</th>\n",
       "      <th>Fare</th>\n",
       "    </tr>\n",
       "  </thead>\n",
       "  <tbody>\n",
       "    <tr>\n",
       "      <th>Age</th>\n",
       "      <td>1.000000</td>\n",
       "      <td>0.089789</td>\n",
       "    </tr>\n",
       "    <tr>\n",
       "      <th>Fare</th>\n",
       "      <td>0.089789</td>\n",
       "      <td>1.000000</td>\n",
       "    </tr>\n",
       "  </tbody>\n",
       "</table>\n",
       "</div>"
      ],
      "text/plain": [
       "           Age      Fare\n",
       "Age   1.000000  0.089789\n",
       "Fare  0.089789  1.000000"
      ]
     },
     "execution_count": 71,
     "metadata": {},
     "output_type": "execute_result"
    }
   ],
   "source": [
    "corrmat"
   ]
  },
  {
   "cell_type": "markdown",
   "id": "288df228",
   "metadata": {},
   "source": [
    "No corelated feature in this case but in the case that some features are corelated we keep the one with higher corelation to the target."
   ]
  },
  {
   "cell_type": "markdown",
   "id": "a177e9ba",
   "metadata": {},
   "source": [
    "### Select feature(numerical) that corelate to the target"
   ]
  },
  {
   "cell_type": "markdown",
   "id": "c0fa1ff2",
   "metadata": {},
   "source": [
    "ANOVA test (significance level = 0.1)"
   ]
  },
  {
   "cell_type": "code",
   "execution_count": 72,
   "id": "101b23b3",
   "metadata": {},
   "outputs": [],
   "source": [
    "df_target = pd.DataFrame({'Survived':y_train})\n",
    "df_stat = pd.concat([X_train, df_target], axis = 1)"
   ]
  },
  {
   "cell_type": "code",
   "execution_count": 73,
   "id": "8d20bc93",
   "metadata": {},
   "outputs": [
    {
     "name": "stdout",
     "output_type": "stream",
     "text": [
      "Age: p value = 0.0882044995539028\n",
      "Fare: p value = 4.17760691641456e-10\n"
     ]
    }
   ],
   "source": [
    "selected_numerical_feature = []\n",
    "\n",
    "grps = df_target.Survived.unique()\n",
    "\n",
    "for i in numerical_feature:\n",
    "    df_anova = df_stat[[i, 'Survived']]\n",
    "    d_data = {grp:df_anova[df_anova.Survived == grp][i] for grp in grps}\n",
    "    F, p = f_oneway(d_data[0], d_data[1])\n",
    "    print(f'{i}: p value = {p}')\n",
    "    if p < 0.1:\n",
    "        selected_numerical_feature.append(i)"
   ]
  },
  {
   "cell_type": "code",
   "execution_count": 74,
   "id": "506d131e",
   "metadata": {},
   "outputs": [
    {
     "data": {
      "text/plain": [
       "['Age', 'Fare']"
      ]
     },
     "execution_count": 74,
     "metadata": {},
     "output_type": "execute_result"
    }
   ],
   "source": [
    "selected_numerical_feature"
   ]
  },
  {
   "cell_type": "markdown",
   "id": "bc2c2b4b",
   "metadata": {},
   "source": [
    "### Select feature(categorical) that corelate to the target"
   ]
  },
  {
   "cell_type": "markdown",
   "id": "2b83652b",
   "metadata": {},
   "source": [
    "Chi2 test (significance level = 0.1)"
   ]
  },
  {
   "cell_type": "code",
   "execution_count": 75,
   "id": "0eab3c23",
   "metadata": {},
   "outputs": [
    {
     "name": "stdout",
     "output_type": "stream",
     "text": [
      "Pclass: p value = 5.551226519110159e-18\n",
      "Sex: p value = 8.745446545973428e-48\n",
      "Embarked: p value = 0.0007671627473891551\n",
      "Title: p value = 1.0717927330303271e-48\n",
      "Family: p value = 1.424498011722939e-08\n",
      "Cabin_group: p value = 1.1704863398151357e-13\n"
     ]
    }
   ],
   "source": [
    "selected_categorical_feature = []\n",
    "\n",
    "for i in categorical_feature:\n",
    "    chi2_test = chi2_contingency(pd.crosstab(df_stat[i], df_stat['Survived']))   \n",
    "    print(f'{i}: p value = {chi2_test[1]}')\n",
    "    if p < 0.1:\n",
    "        selected_categorical_feature.append(i)"
   ]
  },
  {
   "cell_type": "code",
   "execution_count": 76,
   "id": "a0f8ea71",
   "metadata": {},
   "outputs": [
    {
     "data": {
      "text/plain": [
       "['Pclass', 'Sex', 'Embarked', 'Title', 'Family', 'Cabin_group']"
      ]
     },
     "execution_count": 76,
     "metadata": {},
     "output_type": "execute_result"
    }
   ],
   "source": [
    "selected_categorical_feature"
   ]
  },
  {
   "cell_type": "markdown",
   "id": "6b9bea9d",
   "metadata": {},
   "source": [
    "### Final feature"
   ]
  },
  {
   "cell_type": "code",
   "execution_count": 77,
   "id": "a4b0b3d4",
   "metadata": {},
   "outputs": [],
   "source": [
    "final_feature = selected_numerical_feature + selected_categorical_feature"
   ]
  },
  {
   "cell_type": "code",
   "execution_count": 78,
   "id": "88266903",
   "metadata": {},
   "outputs": [],
   "source": [
    "X_train = X_train[final_feature]\n",
    "X_val = X_val[final_feature]\n",
    "X_test = X_test[final_feature]"
   ]
  },
  {
   "cell_type": "markdown",
   "id": "aa61c939",
   "metadata": {},
   "source": [
    "# Model"
   ]
  },
  {
   "cell_type": "markdown",
   "id": "d751d05f",
   "metadata": {},
   "source": [
    "### check again"
   ]
  },
  {
   "cell_type": "code",
   "execution_count": 79,
   "id": "a877d21e",
   "metadata": {},
   "outputs": [
    {
     "data": {
      "text/plain": [
       "0"
      ]
     },
     "execution_count": 79,
     "metadata": {},
     "output_type": "execute_result"
    },
    {
     "data": {
      "text/plain": [
       "0"
      ]
     },
     "execution_count": 79,
     "metadata": {},
     "output_type": "execute_result"
    },
    {
     "data": {
      "text/plain": [
       "0"
      ]
     },
     "execution_count": 79,
     "metadata": {},
     "output_type": "execute_result"
    },
    {
     "data": {
      "text/plain": [
       "0"
      ]
     },
     "execution_count": 79,
     "metadata": {},
     "output_type": "execute_result"
    },
    {
     "data": {
      "text/plain": [
       "0"
      ]
     },
     "execution_count": 79,
     "metadata": {},
     "output_type": "execute_result"
    },
    {
     "data": {
      "text/plain": [
       "0"
      ]
     },
     "execution_count": 79,
     "metadata": {},
     "output_type": "execute_result"
    }
   ],
   "source": [
    "X_train.isnull().sum().sum()\n",
    "X_val.isnull().sum().sum()\n",
    "X_test.isnull().sum().sum()\n",
    "\n",
    "y_train.isnull().sum().sum()\n",
    "y_val.isnull().sum().sum()\n",
    "y_test.isnull().sum().sum()"
   ]
  },
  {
   "cell_type": "code",
   "execution_count": 80,
   "id": "92bd4892",
   "metadata": {},
   "outputs": [
    {
     "data": {
      "text/plain": [
       "(720, 8)"
      ]
     },
     "execution_count": 80,
     "metadata": {},
     "output_type": "execute_result"
    },
    {
     "data": {
      "text/plain": [
       "(81, 8)"
      ]
     },
     "execution_count": 80,
     "metadata": {},
     "output_type": "execute_result"
    },
    {
     "data": {
      "text/plain": [
       "(90, 8)"
      ]
     },
     "execution_count": 80,
     "metadata": {},
     "output_type": "execute_result"
    },
    {
     "data": {
      "text/plain": [
       "(720,)"
      ]
     },
     "execution_count": 80,
     "metadata": {},
     "output_type": "execute_result"
    },
    {
     "data": {
      "text/plain": [
       "(81,)"
      ]
     },
     "execution_count": 80,
     "metadata": {},
     "output_type": "execute_result"
    },
    {
     "data": {
      "text/plain": [
       "(90,)"
      ]
     },
     "execution_count": 80,
     "metadata": {},
     "output_type": "execute_result"
    }
   ],
   "source": [
    "X_train.shape\n",
    "X_val.shape\n",
    "X_test.shape\n",
    "\n",
    "y_train.shape\n",
    "y_val.shape\n",
    "y_test.shape"
   ]
  },
  {
   "cell_type": "code",
   "execution_count": 81,
   "id": "34ef4c76",
   "metadata": {},
   "outputs": [
    {
     "data": {
      "text/plain": [
       "Age             float64\n",
       "Fare            float64\n",
       "Pclass         category\n",
       "Sex            category\n",
       "Embarked       category\n",
       "Title          category\n",
       "Family         category\n",
       "Cabin_group    category\n",
       "dtype: object"
      ]
     },
     "execution_count": 81,
     "metadata": {},
     "output_type": "execute_result"
    },
    {
     "data": {
      "text/plain": [
       "Age             float64\n",
       "Fare            float64\n",
       "Pclass         category\n",
       "Sex            category\n",
       "Embarked       category\n",
       "Title          category\n",
       "Family         category\n",
       "Cabin_group    category\n",
       "dtype: object"
      ]
     },
     "execution_count": 81,
     "metadata": {},
     "output_type": "execute_result"
    },
    {
     "data": {
      "text/plain": [
       "Age             float64\n",
       "Fare            float64\n",
       "Pclass         category\n",
       "Sex            category\n",
       "Embarked       category\n",
       "Title          category\n",
       "Family         category\n",
       "Cabin_group    category\n",
       "dtype: object"
      ]
     },
     "execution_count": 81,
     "metadata": {},
     "output_type": "execute_result"
    }
   ],
   "source": [
    "X_train.dtypes\n",
    "X_val.dtypes\n",
    "X_test.dtypes"
   ]
  },
  {
   "cell_type": "markdown",
   "id": "b138b50e",
   "metadata": {},
   "source": [
    "Note: We did't do categorical encoding because we wil use LGBM feature to deal it."
   ]
  },
  {
   "cell_type": "markdown",
   "id": "6e7bc308",
   "metadata": {},
   "source": [
    "### build a quick model"
   ]
  },
  {
   "cell_type": "code",
   "execution_count": 82,
   "id": "9808d09c",
   "metadata": {},
   "outputs": [],
   "source": [
    "lgb_sklearn = LGBMClassifier(\n",
    "    boosting_type = 'gbdt',\n",
    "    objective = 'binary',\n",
    "    metric = ['auc'],\n",
    "    n_estimators = 1000,\n",
    "    max_depth = 3,\n",
    "    num_leaves = 8,\n",
    "    learning_rate = 0.01,\n",
    "    reg_alpha = 0.1,  \n",
    "    reg_lambda = 0.1,\n",
    "    feature_fraction = 0.9,\n",
    "    bagging_fraction = 0.9,\n",
    ")"
   ]
  },
  {
   "cell_type": "code",
   "execution_count": 83,
   "id": "6fc2a59d",
   "metadata": {},
   "outputs": [
    {
     "name": "stdout",
     "output_type": "stream",
     "text": [
      "[100]\ttraining's auc: 0.876236\tvalid_1's auc: 0.893871\n",
      "[200]\ttraining's auc: 0.889982\tvalid_1's auc: 0.896452\n",
      "[300]\ttraining's auc: 0.897808\tvalid_1's auc: 0.901935\n",
      "[400]\ttraining's auc: 0.904018\tvalid_1's auc: 0.908387\n",
      "[500]\ttraining's auc: 0.909355\tvalid_1's auc: 0.916774\n",
      "[600]\ttraining's auc: 0.91297\tvalid_1's auc: 0.915806\n",
      "[700]\ttraining's auc: 0.915153\tvalid_1's auc: 0.914516\n",
      "[800]\ttraining's auc: 0.919502\tvalid_1's auc: 0.916452\n",
      "[900]\ttraining's auc: 0.924052\tvalid_1's auc: 0.916452\n",
      "[1000]\ttraining's auc: 0.927059\tvalid_1's auc: 0.914516\n"
     ]
    },
    {
     "data": {
      "text/plain": [
       "LGBMClassifier(bagging_fraction=0.9, feature_fraction=0.9, learning_rate=0.01,\n",
       "               max_depth=3, metric=['auc'], n_estimators=1000, num_leaves=8,\n",
       "               objective='binary', reg_alpha=0.1, reg_lambda=0.1)"
      ]
     },
     "execution_count": 83,
     "metadata": {},
     "output_type": "execute_result"
    }
   ],
   "source": [
    "lgb_sklearn.fit(X_train, y_train, verbose = 100,\n",
    "          eval_metric = 'auc',\n",
    "          eval_set = [(X_train, y_train),(X_val, y_val)]\n",
    "        )"
   ]
  },
  {
   "cell_type": "markdown",
   "id": "3485f7bd",
   "metadata": {},
   "source": [
    "Seem like the model can learn from our data."
   ]
  },
  {
   "cell_type": "markdown",
   "id": "2d59e125",
   "metadata": {},
   "source": [
    "### parameter tuning"
   ]
  },
  {
   "cell_type": "code",
   "execution_count": 84,
   "id": "48cdd88b",
   "metadata": {},
   "outputs": [],
   "source": [
    "param_grid = {\n",
    "    'n_estimators':[500,700,1000],\n",
    "    'max_depth':[2,3,4],\n",
    "    'num_leaves':[8,16],\n",
    "    'learning_rate':[0.01, 0.05],\n",
    "    'reg_alpha':[0, 0.1],  \n",
    "    'reg_lambda':[0, 0.1],\n",
    "#     'feature_fraction':[0.9,1],\n",
    "#     'bagging_fraction':[0.9,1],\n",
    "}"
   ]
  },
  {
   "cell_type": "code",
   "execution_count": 85,
   "id": "03ef6184",
   "metadata": {},
   "outputs": [],
   "source": [
    "estimator = LGBMClassifier(boosting_type = 'gbdt', objective = 'binary', metric = ['auc'])"
   ]
  },
  {
   "cell_type": "code",
   "execution_count": 86,
   "id": "15277bef",
   "metadata": {},
   "outputs": [],
   "source": [
    "clf = GridSearchCV(estimator = estimator,\n",
    "                   cv=pds,\n",
    "                   param_grid=param_grid,\n",
    "                   scoring = 'accuracy')"
   ]
  },
  {
   "cell_type": "code",
   "execution_count": 87,
   "id": "b1541684",
   "metadata": {},
   "outputs": [
    {
     "data": {
      "text/plain": [
       "GridSearchCV(cv=PredefinedSplit(test_fold=array([-1, -1, ...,  0, -1])),\n",
       "             estimator=LGBMClassifier(metric=['auc'], objective='binary'),\n",
       "             param_grid={'learning_rate': [0.01, 0.05], 'max_depth': [2, 3, 4],\n",
       "                         'n_estimators': [500, 700, 1000],\n",
       "                         'num_leaves': [8, 16], 'reg_alpha': [0, 0.1],\n",
       "                         'reg_lambda': [0, 0.1]},\n",
       "             scoring='accuracy')"
      ]
     },
     "execution_count": 87,
     "metadata": {},
     "output_type": "execute_result"
    },
    {
     "name": "stdout",
     "output_type": "stream",
     "text": [
      "time collapes:  0:00:20.270875\n"
     ]
    }
   ],
   "source": [
    "time_start = datetime.now()\n",
    "clf.fit(X1,y1)\n",
    "print('time collapes: ', datetime.now() - time_start)"
   ]
  },
  {
   "cell_type": "code",
   "execution_count": 88,
   "id": "740c05ed",
   "metadata": {},
   "outputs": [
    {
     "data": {
      "text/plain": [
       "0.8888888888888888"
      ]
     },
     "execution_count": 88,
     "metadata": {},
     "output_type": "execute_result"
    }
   ],
   "source": [
    "clf.best_score_"
   ]
  },
  {
   "cell_type": "code",
   "execution_count": 89,
   "id": "adc6e5e0",
   "metadata": {},
   "outputs": [
    {
     "data": {
      "text/plain": [
       "{'learning_rate': 0.01,\n",
       " 'max_depth': 4,\n",
       " 'n_estimators': 700,\n",
       " 'num_leaves': 16,\n",
       " 'reg_alpha': 0,\n",
       " 'reg_lambda': 0}"
      ]
     },
     "execution_count": 89,
     "metadata": {},
     "output_type": "execute_result"
    }
   ],
   "source": [
    "clf.best_params_"
   ]
  },
  {
   "cell_type": "code",
   "execution_count": 90,
   "id": "6b99ede7",
   "metadata": {},
   "outputs": [],
   "source": [
    "model1 = LGBMClassifier(\n",
    "    boosting_type = 'gbdt',\n",
    "    objective = 'binary',\n",
    "    metric = ['auc'],\n",
    "    n_estimators = 700,\n",
    "    max_depth = 4,\n",
    "    num_leaves = 16,\n",
    "    learning_rate = 0.01,\n",
    "    reg_alpha = 0,  \n",
    "    reg_lambda = 0\n",
    ")"
   ]
  },
  {
   "cell_type": "code",
   "execution_count": 91,
   "id": "938e187f",
   "metadata": {},
   "outputs": [
    {
     "name": "stdout",
     "output_type": "stream",
     "text": [
      "[100]\ttraining's auc: 0.879178\tvalid_1's auc: 0.895806\n",
      "[200]\ttraining's auc: 0.907241\tvalid_1's auc: 0.905161\n",
      "[300]\ttraining's auc: 0.916871\tvalid_1's auc: 0.917419\n",
      "[400]\ttraining's auc: 0.922469\tvalid_1's auc: 0.919032\n",
      "[500]\ttraining's auc: 0.930531\tvalid_1's auc: 0.918387\n",
      "[600]\ttraining's auc: 0.935978\tvalid_1's auc: 0.915806\n",
      "[700]\ttraining's auc: 0.940348\tvalid_1's auc: 0.914516\n"
     ]
    },
    {
     "data": {
      "text/plain": [
       "LGBMClassifier(learning_rate=0.01, max_depth=4, metric=['auc'],\n",
       "               n_estimators=700, num_leaves=16, objective='binary', reg_alpha=0,\n",
       "               reg_lambda=0)"
      ]
     },
     "execution_count": 91,
     "metadata": {},
     "output_type": "execute_result"
    }
   ],
   "source": [
    "model1.fit(X_train, y_train, verbose = 100,\n",
    "          eval_metric = 'auc',\n",
    "          eval_set = [(X_train, y_train),(X_val, y_val)]\n",
    "        )"
   ]
  },
  {
   "cell_type": "code",
   "execution_count": 92,
   "id": "b9b67e32",
   "metadata": {
    "scrolled": true
   },
   "outputs": [
    {
     "data": {
      "text/plain": [
       "<AxesSubplot:>"
      ]
     },
     "execution_count": 92,
     "metadata": {},
     "output_type": "execute_result"
    },
    {
     "data": {
      "image/png": "[encoded data removed]",
      "text/plain": [
       "<Figure size 432x288 with 1 Axes>"
      ]
     },
     "metadata": {
      "needs_background": "light"
     },
     "output_type": "display_data"
    }
   ],
   "source": [
    "feat_importances = pd.Series(model1.feature_importances_, index=X_train.columns)\n",
    "feat_importances.nlargest(10).sort_values().plot(kind='barh')\n",
    "_ = plt.title(\"Top important features\")\n",
    "_ = plt.show()"
   ]
  },
  {
   "cell_type": "markdown",
   "id": "4e1d94d7",
   "metadata": {},
   "source": [
    "### Evaluation"
   ]
  },
  {
   "cell_type": "code",
   "execution_count": 93,
   "id": "6c1ab7e7",
   "metadata": {},
   "outputs": [
    {
     "name": "stdout",
     "output_type": "stream",
     "text": [
      "train accuracy:  0.8833333333333333\n",
      "validation accuracy:  0.8518518518518519\n",
      "test accuracy:  0.8444444444444444\n"
     ]
    }
   ],
   "source": [
    "print('train accuracy: ', accuracy_score(y_train, model1.predict(X_train)))\n",
    "print('validation accuracy: ', accuracy_score(y_val, model1.predict(X_val)))\n",
    "print('test accuracy: ', accuracy_score(y_test, model1.predict(X_test)))"
   ]
  },
  {
   "cell_type": "markdown",
   "id": "49b57e35",
   "metadata": {},
   "source": [
    "The model is a bit overfit but in an acceptable level"
   ]
  },
  {
   "cell_type": "code",
   "execution_count": 94,
   "id": "039903b8",
   "metadata": {},
   "outputs": [
    {
     "name": "stdout",
     "output_type": "stream",
     "text": [
      "train roc auc score:  0.9403479566523045\n",
      "validation roc auc score:  0.914516129032258\n",
      "test roc auc score:  0.9288311688311688\n"
     ]
    }
   ],
   "source": [
    "print('train roc auc score: ', roc_auc_score(y_train, model1.predict_proba(X_train)[:,1]))\n",
    "print('validation roc auc score: ', roc_auc_score(y_val, model1.predict_proba(X_val)[:,1]))\n",
    "print('test roc auc score: ', roc_auc_score(y_test, model1.predict_proba(X_test)[:,1]))"
   ]
  },
  {
   "cell_type": "code",
   "execution_count": 95,
   "id": "d475647e",
   "metadata": {},
   "outputs": [
    {
     "name": "stdout",
     "output_type": "stream",
     "text": [
      "Train set\n",
      "\n",
      "              precision    recall  f1-score   support\n",
      "\n",
      "           0      0.872     0.950     0.909       444\n",
      "           1      0.907     0.775     0.836       276\n",
      "\n",
      "    accuracy                          0.883       720\n",
      "   macro avg      0.889     0.863     0.873       720\n",
      "weighted avg      0.885     0.883     0.881       720\n",
      "\n"
     ]
    },
    {
     "data": {
      "image/png": "[encoded data removed]",
      "text/plain": [
       "<Figure size 432x288 with 2 Axes>"
      ]
     },
     "metadata": {
      "needs_background": "light"
     },
     "output_type": "display_data"
    }
   ],
   "source": [
    "print('Train set\\n')\n",
    "print(classification_report(y_train, model1.predict(X_train), digits=3))\n",
    "_ = plot_confusion_matrix(model1, X_train, y_train)"
   ]
  },
  {
   "cell_type": "code",
   "execution_count": 96,
   "id": "744fc3d9",
   "metadata": {},
   "outputs": [
    {
     "name": "stdout",
     "output_type": "stream",
     "text": [
      "Validation set\n",
      "\n",
      "              precision    recall  f1-score   support\n",
      "\n",
      "           0      0.865     0.900     0.882        50\n",
      "           1      0.828     0.774     0.800        31\n",
      "\n",
      "    accuracy                          0.852        81\n",
      "   macro avg      0.846     0.837     0.841        81\n",
      "weighted avg      0.851     0.852     0.851        81\n",
      "\n"
     ]
    },
    {
     "data": {
      "image/png": "[encoded data removed]",
      "text/plain": [
       "<Figure size 432x288 with 2 Axes>"
      ]
     },
     "metadata": {
      "needs_background": "light"
     },
     "output_type": "display_data"
    }
   ],
   "source": [
    "print('Validation set\\n')\n",
    "print(classification_report(y_val, model1.predict(X_val), digits=3))\n",
    "_ = plot_confusion_matrix(model1, X_val, y_val)"
   ]
  },
  {
   "cell_type": "code",
   "execution_count": 97,
   "id": "31a0c249",
   "metadata": {},
   "outputs": [
    {
     "name": "stdout",
     "output_type": "stream",
     "text": [
      "Test set\n",
      "\n",
      "              precision    recall  f1-score   support\n",
      "\n",
      "           0      0.847     0.909     0.877        55\n",
      "           1      0.839     0.743     0.788        35\n",
      "\n",
      "    accuracy                          0.844        90\n",
      "   macro avg      0.843     0.826     0.833        90\n",
      "weighted avg      0.844     0.844     0.842        90\n",
      "\n"
     ]
    },
    {
     "data": {
      "image/png": "[encoded data removed]",
      "text/plain": [
       "<Figure size 432x288 with 2 Axes>"
      ]
     },
     "metadata": {
      "needs_background": "light"
     },
     "output_type": "display_data"
    }
   ],
   "source": [
    "print('Test set\\n')\n",
    "print(classification_report(y_test, model1.predict(X_test), digits=3))\n",
    "_ = plot_confusion_matrix(model1, X_test, y_test)"
   ]
  }
 ],
 "metadata": {
  "kernelspec": {
   "display_name": "Python 3",
   "language": "python",
   "name": "python3"
  },
  "language_info": {
   "codemirror_mode": {
    "name": "ipython",
    "version": 3
   },
   "file_extension": ".py",
   "mimetype": "text/x-python",
   "name": "python",
   "nbconvert_exporter": "python",
   "pygments_lexer": "ipython3",
   "version": "3.8.8"
  }
 },
 "nbformat": 4,
 "nbformat_minor": 5
}
